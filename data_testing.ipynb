{
 "cells": [
  {
   "cell_type": "code",
   "execution_count": 4,
   "id": "f38236b9",
   "metadata": {},
   "outputs": [],
   "source": [
    "import psycopg2 as pg\n",
    "import pandas as pd\n",
    "import matplotlib.pyplot as plt\n",
    "\n",
    "from config import DATABASE_URI\n",
    "\n",
    "idx = pd.IndexSlice"
   ]
  },
  {
   "cell_type": "code",
   "execution_count": 2,
   "id": "4195233a",
   "metadata": {},
   "outputs": [],
   "source": [
    "sql = \"\"\"\n",
    "SELECT\n",
    "    date,\n",
    "    ticker,\n",
    "    closeadj\n",
    "FROM\n",
    "    prices\n",
    "WHERE\n",
    "    date IN (\n",
    "        SELECT\n",
    "            MAX(date)\n",
    "        FROM\n",
    "            prices\n",
    "        WHERE\n",
    "            frequency = 'DAILY'\n",
    "        GROUP BY\n",
    "            EXTRACT(\n",
    "                MONTH\n",
    "                FROM\n",
    "                    date\n",
    "            ),\n",
    "            EXTRACT(\n",
    "                YEAR\n",
    "                FROM\n",
    "                    date\n",
    "            )\n",
    "    )\n",
    "ORDER BY\n",
    "    date ASC;\n",
    "\"\"\"\n",
    "\n",
    "with pg.connect(DATABASE_URI) as conn:\n",
    "    with conn.cursor() as cur:\n",
    "        cur.execute(sql)\n",
    "        results = cur.fetchall()\n",
    "\n",
    "prices = pd.DataFrame(results, columns=[\"date\", \"ticker\", \"closeadj\"])\n",
    "# There aren't duplicates here usually, but drop them just to be sure\n",
    "prices = prices.drop_duplicates(subset=[\"date\", \"ticker\"])\n",
    "prices = prices.set_index([\"date\", \"ticker\"], verify_integrity=True).dropna()"
   ]
  },
  {
   "cell_type": "code",
   "execution_count": 35,
   "id": "e5532159",
   "metadata": {},
   "outputs": [],
   "source": [
    "def do_reindex(df, prices):\n",
    "    \"\"\"\n",
    "    This is some really convoluted shit to reindex the fundamentals dataframe\n",
    "    to end of month like the prices dataframe while forward filling fundmental information\n",
    "    from the last quarterly filing.\n",
    "    Pandas multiindex is just not designed to do what I want, so this is what has to be done\n",
    "    \"\"\"\n",
    "    # Turn ticker index into column\n",
    "    df = df.reset_index(level=1)\n",
    "    # For each ticker, reindex according to prices dataframe date index, limit forward filling to 12 months\n",
    "    # to account for some companies not regularly filing quarterly reports\n",
    "    df = df.groupby(\"ticker\").apply(lambda x: x.reindex(index=prices.index.levels[0], method=\"ffill\", limit=12))\n",
    "    # Tickers column gets duplicated in the index, so drop it\n",
    "    df = df.drop(columns=[\"ticker\"])\n",
    "    # Index order gets reversed, so un-reverse it and sort\n",
    "    return df.reorder_levels([\"date\", \"ticker\"]).sort_index()"
   ]
  },
  {
   "cell_type": "code",
   "execution_count": 38,
   "id": "f76d2a78",
   "metadata": {
    "scrolled": true
   },
   "outputs": [],
   "source": [
    "sql = \"\"\"\n",
    "SELECT\n",
    "    datekey,\n",
    "    ticker,\n",
    "    pe\n",
    "FROM\n",
    "    fundamentals\n",
    "WHERE\n",
    "    dimension = 'ARQ'\n",
    "ORDER BY\n",
    "    datekey ASC;\n",
    "\"\"\"\n",
    "\n",
    "with pg.connect(DATABASE_URI) as conn:\n",
    "    with conn.cursor() as cur:\n",
    "        cur.execute(sql)\n",
    "        results = cur.fetchall()\n",
    "\n",
    "fundamentals = pd.DataFrame(results, columns=[\"datekey\", \"ticker\", \"pe\"])\n",
    "# For some reason when fetching prices the column already has datetime type,\n",
    "# but it doesn't here, so we have to manually convert it\n",
    "fundamentals[\"datekey\"] = pd.to_datetime(fundamentals[\"datekey\"])\n",
    "# Drop duplicates for setting index. There are some here for reasons that are beyond me.\n",
    "fundamentals = fundamentals.drop_duplicates(subset=[\"datekey\", \"ticker\"])\n",
    "fundamentals = fundamentals.set_index([\"datekey\", \"ticker\"], verify_integrity=True)\n",
    "fundamentals = do_reindex(fundamentals, prices).dropna()"
   ]
  },
  {
   "cell_type": "code",
   "execution_count": 1,
   "id": "69cc7d5c",
   "metadata": {},
   "outputs": [],
   "source": [
    "import data"
   ]
  },
  {
   "cell_type": "code",
   "execution_count": 2,
   "id": "cf7fc3ce",
   "metadata": {},
   "outputs": [],
   "source": [
    "columns = [\"pe\", \"divyield\", \"marketcap\"]\n",
    "test = data.get_data(columns)"
   ]
  },
  {
   "cell_type": "code",
   "execution_count": null,
   "id": "136b271c",
   "metadata": {},
   "outputs": [],
   "source": []
  }
 ],
 "metadata": {
  "kernelspec": {
   "display_name": "Python 3 (ipykernel)",
   "language": "python",
   "name": "python3"
  },
  "language_info": {
   "codemirror_mode": {
    "name": "ipython",
    "version": 3
   },
   "file_extension": ".py",
   "mimetype": "text/x-python",
   "name": "python",
   "nbconvert_exporter": "python",
   "pygments_lexer": "ipython3",
   "version": "3.8.5"
  }
 },
 "nbformat": 4,
 "nbformat_minor": 5
}
