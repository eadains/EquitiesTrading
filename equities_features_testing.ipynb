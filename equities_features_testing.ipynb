{
 "cells": [
  {
   "cell_type": "code",
   "execution_count": 187,
   "id": "1a05bc4f",
   "metadata": {},
   "outputs": [],
   "source": [
    "import psycopg2 as pg\n",
    "import pandas as pd\n",
    "import numpy as np\n",
    "import matplotlib.pyplot as plt\n",
    "from scipy.stats import linregress\n",
    "\n",
    "from config import DATABASE_URI\n",
    "\n",
    "idx = pd.IndexSlice"
   ]
  },
  {
   "cell_type": "code",
   "execution_count": 188,
   "id": "52ef03c6",
   "metadata": {},
   "outputs": [],
   "source": [
    "test = \"ABBC\""
   ]
  },
  {
   "cell_type": "code",
   "execution_count": 189,
   "id": "e12a9990",
   "metadata": {},
   "outputs": [],
   "source": [
    "sql = \"\"\"\n",
    "SELECT\n",
    "    date,\n",
    "    closeadj\n",
    "FROM\n",
    "    prices\n",
    "WHERE\n",
    "    ticker = 'SPY';\n",
    "\"\"\"\n",
    "\n",
    "with pg.connect(DATABASE_URI) as conn:\n",
    "    with conn.cursor() as cur:\n",
    "        cur.execute(sql)\n",
    "        results = cur.fetchall()\n",
    "\n",
    "market = pd.Series(dict(results), dtype=\"float\").sort_index()\n",
    "market = market.pct_change().dropna()"
   ]
  },
  {
   "cell_type": "code",
   "execution_count": 190,
   "id": "136e58cf",
   "metadata": {},
   "outputs": [],
   "source": [
    "sql = f\"\"\"\n",
    "SELECT\n",
    "    date,\n",
    "    closeadj,\n",
    "    close,\n",
    "    volume\n",
    "FROM\n",
    "    prices\n",
    "WHERE\n",
    "    ticker = '{test}';\n",
    "\"\"\"\n",
    "\n",
    "with pg.connect(DATABASE_URI) as conn:\n",
    "    with conn.cursor() as cur:\n",
    "        cur.execute(sql)\n",
    "        results = cur.fetchall()\n",
    "        \n",
    "prices_df = pd.DataFrame.from_records(results, columns=[\"date\", \"closeadj\", \"close\", \"volume\"], coerce_float=True)\n",
    "prices_df = prices_df.set_index(\"date\", verify_integrity=True).sort_index()\n",
    "# Sometimes columns are totally empty so pandas fills with None but we actually want NaN\n",
    "# for math\n",
    "prices_df = prices_df.replace([None], np.nan)"
   ]
  },
  {
   "cell_type": "code",
   "execution_count": 191,
   "id": "0c105cb1",
   "metadata": {},
   "outputs": [],
   "source": [
    "sql = f\"\"\"\n",
    "SELECT\n",
    "    datekey,\n",
    "    sharesbas,\n",
    "    pb,\n",
    "    assetsc,\n",
    "    cashneq,\n",
    "    liabilitiesc,\n",
    "    depamor,\n",
    "    roa,\n",
    "    assets,\n",
    "    divyield,\n",
    "    debt,\n",
    "    revenue\n",
    "FROM\n",
    "    fundamentals\n",
    "WHERE\n",
    "    (\n",
    "        ticker = '{test}'\n",
    "        AND dimension = 'ART'\n",
    "    );\n",
    "\"\"\"\n",
    "\n",
    "with pg.connect(DATABASE_URI) as conn:\n",
    "    with conn.cursor() as cur:\n",
    "        cur.execute(sql)\n",
    "        results = cur.fetchall()\n",
    "\n",
    "fund_df = pd.DataFrame.from_records(results, columns=[\"date\", \"shares\", \"pb\",\n",
    "                                                      \"assetsc\", \"cash\", \"liabilitiesc\",\n",
    "                                                      \"deprec\", \"roa\", \"assets\", \"divyield\",\n",
    "                                                      \"debt\", \"revenue\"],\n",
    "                                    coerce_float=True)\n",
    "fund_df[\"date\"] = pd.to_datetime(fund_df[\"date\"])\n",
    "fund_df = fund_df.set_index(\"date\", verify_integrity=True).sort_index()\n",
    "fund_df = fund_df.replace([None], np.nan)"
   ]
  },
  {
   "cell_type": "code",
   "execution_count": 192,
   "id": "4f5d391b",
   "metadata": {},
   "outputs": [],
   "source": [
    "df = fund_df.reindex(index=prices_df.index, method=\"ffill\", limit=252)\n",
    "df = df.join(prices_df)"
   ]
  },
  {
   "cell_type": "code",
   "execution_count": 193,
   "id": "dbabb179",
   "metadata": {},
   "outputs": [],
   "source": [
    "dates = pd.bdate_range(start=df.index[0], end=df.index[-1], freq='M')"
   ]
  },
  {
   "cell_type": "code",
   "execution_count": 194,
   "id": "0580dab3",
   "metadata": {},
   "outputs": [],
   "source": [
    "rolling_dfs = []\n",
    "\n",
    "for date in dates:\n",
    "    annual_df = df.loc[(date - pd.Timedelta(days=365)):date]\n",
    "    if len(annual_df) > 250:\n",
    "        rolling_dfs.append(annual_df)"
   ]
  },
  {
   "cell_type": "code",
   "execution_count": 195,
   "id": "ee483431",
   "metadata": {},
   "outputs": [],
   "source": [
    "def calc_beta(stock_df, market_df):\n",
    "    \"\"\"\n",
    "    Calculates beta from daily stock returns.\n",
    "    \n",
    "    Inputs:\n",
    "    stock_df: stock returns\n",
    "    market_df: market index RETURNS\n",
    "    \"\"\"\n",
    "    # Try to get market returns for same days as stock returns, if they don't match up, catch index KeyError\n",
    "    # and return NaN\n",
    "    try:\n",
    "        market_df = market_df.loc[stock_df.index]\n",
    "    except KeyError:\n",
    "        print(\"Market returns do not exist for some days in stock data. Skipping\")\n",
    "        return np.nan\n",
    "    beta = np.sum((stock_df - np.mean(stock_df)) * (market_df - np.mean(market_df))) / np.sum((market_df - np.mean(market_df))**2)\n",
    "    return beta"
   ]
  },
  {
   "cell_type": "code",
   "execution_count": 196,
   "id": "12f34d6d",
   "metadata": {},
   "outputs": [],
   "source": [
    "def make_features(df, market_df):\n",
    "    result = {\"date\": df.index[-1]}\n",
    "    # log of market capitalization\n",
    "    result[\"logsize\"] = np.log(df.iloc[-1][\"close\"] * df.iloc[-1][\"shares\"])\n",
    "    # price / book ratio\n",
    "    result[\"pb\"] = df.iloc[-1][\"pb\"]\n",
    "    # -12 month to -2 month stock return\n",
    "    result[\"momentum\"] = (df.iloc[-1][\"closeadj\"] / df.iloc[-43][\"closeadj\"]) - 1\n",
    "    # log growth in outstanding shares\n",
    "    result[\"issuance\"] = np.log(df.iloc[-1][\"shares\"]) - np.log(df.iloc[0][\"shares\"])\n",
    "    # log growth in non-cash working capital minus depreciation\n",
    "    result[\"accruals\"] = ((df.iloc[-1][\"assetsc\"] - df.iloc[-1][\"cash\"] - df.iloc[-1][\"liabilitiesc\"]) / (df.iloc[0][\"assetsc\"] - df.iloc[0][\"cash\"] - df.iloc[0][\"liabilitiesc\"])) - 1\n",
    "    # return on assets\n",
    "    result[\"roa\"] = df.iloc[-1][\"roa\"]\n",
    "    # log growth in assets\n",
    "    result[\"assets\"] = np.log(df.iloc[-1][\"assets\"]) - np.log(df.iloc[0][\"assets\"])\n",
    "    # dividend yield\n",
    "    result[\"divyield\"] = df.iloc[-1][\"divyield\"]\n",
    "    # beta\n",
    "    returns = df[\"closeadj\"].pct_change().dropna()\n",
    "    result[\"beta\"] = calc_beta(returns, market_df)\n",
    "    # standard deviation of daily returns\n",
    "    result[\"stddev\"] = np.std(returns)\n",
    "    # average daily share turnover\n",
    "    result[\"turnover\"] = np.mean(df[\"volume\"] / df[\"shares\"])\n",
    "    # debt / market cap\n",
    "    result[\"debt_price\"] = df.iloc[-1][\"debt\"] / (df.iloc[-1][\"close\"] * df.iloc[-1][\"shares\"])\n",
    "    # sales / market cap\n",
    "    result[\"sales_price\"] = df.iloc[-1][\"revenue\"] / (df.iloc[-1][\"close\"] * df.iloc[-1][\"shares\"])\n",
    "    result[\"monthly_ret\"] = (df.iloc[-1][\"closeadj\"] / df.iloc[-22][\"closeadj\"]) - 1\n",
    "    return result"
   ]
  },
  {
   "cell_type": "code",
   "execution_count": 197,
   "id": "368b3dec",
   "metadata": {},
   "outputs": [],
   "source": [
    "final_df = pd.DataFrame([make_features(n, market) for n in rolling_dfs])\n",
    "final_df[\"forward_ret\"] = final_df[\"monthly_ret\"].shift(-1)\n",
    "final_df = final_df.dropna()"
   ]
  },
  {
   "cell_type": "code",
   "execution_count": null,
   "id": "79e7665e",
   "metadata": {},
   "outputs": [],
   "source": []
  }
 ],
 "metadata": {
  "kernelspec": {
   "display_name": "Python 3 (ipykernel)",
   "language": "python",
   "name": "python3"
  },
  "language_info": {
   "codemirror_mode": {
    "name": "ipython",
    "version": 3
   },
   "file_extension": ".py",
   "mimetype": "text/x-python",
   "name": "python",
   "nbconvert_exporter": "python",
   "pygments_lexer": "ipython3",
   "version": "3.8.5"
  }
 },
 "nbformat": 4,
 "nbformat_minor": 5
}
