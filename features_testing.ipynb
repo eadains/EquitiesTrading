{
 "cells": [
  {
   "cell_type": "code",
   "execution_count": 1,
   "id": "d3d7e3f3",
   "metadata": {},
   "outputs": [],
   "source": [
    "from data import get_data\n",
    "import pandas as pd\n",
    "from scipy import stats\n",
    "import numpy as np\n",
    "import matplotlib.pyplot as plt\n",
    "\n",
    "idx = pd.IndexSlice"
   ]
  },
  {
   "cell_type": "markdown",
   "id": "fe70cb63",
   "metadata": {},
   "source": [
    "- Goals:\n",
    "    - Balance sheet health (net cash per share growth rate)\n",
    "    - Earnings growth\n",
    "    - Value for earnings (earnings + div yield / PE)\n",
    "    - leverage (debt equity)\n",
    "    - Free cash flow per share / price\n",
    "- Filters:\n",
    "    - No infs\n",
    "    - Share factor == 1\n",
    "    - 10,000,000 < market cap < 5,000,000,000\n",
    "    - 0 < EPS Growth < 1\n",
    "    - 0 < Debt Equity < 10\n",
    "    - 0 <= Dividend Yield < 0.25\n",
    "    - 0 < PE < 50"
   ]
  },
  {
   "cell_type": "code",
   "execution_count": 2,
   "id": "215d068f",
   "metadata": {},
   "outputs": [],
   "source": [
    "columns = [\"eps\", \"cashneq\", \"investments\", \"debt\", \"sharesbas\", \"pe\", \"divyield\", \"de\", \"fcfps\", \"sharefactor\"]"
   ]
  },
  {
   "cell_type": "code",
   "execution_count": 3,
   "id": "f6ac081b",
   "metadata": {},
   "outputs": [],
   "source": [
    "data = get_data(columns)\n",
    "\n",
    "data[\"marketcap\"] = data[\"close\"] * data[\"sharesbas\"]\n",
    "# Cash coverage ratio\n",
    "data[\"cash_cov\"] = (data[\"cashneq\"] + data[\"investments\"]) / data[\"debt\"]\n",
    "# Free cash flow per share / price\n",
    "data[\"cfpr\"] = data[\"fcfps\"] / data[\"close\"]\n",
    "\n",
    "data[\"forward_ret\"] = data[\"close\"].groupby(\"ticker\").pct_change()\n",
    "data[\"forward_ret\"] = data[\"forward_ret\"].groupby(\"ticker\").shift(-1)\n",
    "\n",
    "data = data[data[\"pe\"] > 0]\n",
    "data = data[data[\"sharefactor\"] == 1]\n",
    "\n",
    "data = data.dropna()"
   ]
  },
  {
   "cell_type": "code",
   "execution_count": 26,
   "id": "a1beb6d6",
   "metadata": {},
   "outputs": [],
   "source": [
    "def growth(df):\n",
    "    \"\"\"\n",
    "    Calculates CAGR over past 3 years given monthly data points\n",
    "    \"\"\"\n",
    "    df = df.droplevel(\"ticker\")\n",
    "    diff = df.iloc[36:] / df.iloc[:-36].values\n",
    "    return np.power(diff, 1/3) - 1"
   ]
  },
  {
   "cell_type": "code",
   "execution_count": 62,
   "id": "08f04099",
   "metadata": {},
   "outputs": [],
   "source": [
    "data = get_data(columns)\n",
    "\n",
    "data[\"marketcap\"] = data[\"close\"] * data[\"sharesbas\"]\n",
    "# Net cash per share\n",
    "data[\"net_cash\"] = ((data[\"cashneq\"] + data[\"investments\"]) - data[\"debt\"]) / data[\"sharesbas\"]\n",
    "# Apply returns dataframe with indexes reversed so we have to un-reverse them\n",
    "data[\"net_cash_change\"] = data[\"net_cash\"].groupby(\"ticker\").apply(growth).reorder_levels([1, 0])\n",
    "data[\"eps_growth\"] = data[\"eps\"].groupby(\"ticker\").apply(growth).reorder_levels([1, 0])\n",
    "# Free cash flow per share / price\n",
    "data[\"cfpr\"] = data[\"fcfps\"] / data[\"close\"]\n",
    "data[\"eps_pe\"] = (data[\"eps_growth\"] + data[\"divyield\"]) / data[\"pe\"]\n",
    "\n",
    "data[\"forward_ret\"] = data[\"close\"].groupby(\"ticker\").pct_change()\n",
    "data[\"forward_ret\"] = data[\"forward_ret\"].groupby(\"ticker\").shift(-1)\n",
    "\n",
    "# Filters\n",
    "data = data[data[\"sharefactor\"] == 1]\n",
    "data = data[data[\"marketcap\"].between(1e7, 5e9)]\n",
    "data = data[data[\"eps_growth\"].between(0, 1)]\n",
    "data = data[data[\"de\"].between(0, 10)]\n",
    "data = data[data[\"divyield\"].between(0, 0.25)]\n",
    "data = data[data[\"pe\"].between(0, 50)]\n",
    "data = data.replace([np.inf, -np.inf], np.nan)\n",
    "data = data.dropna()"
   ]
  },
  {
   "cell_type": "code",
   "execution_count": 127,
   "id": "27bc5b47",
   "metadata": {},
   "outputs": [],
   "source": [
    "features = data[[\"pe\", \"divyield\", \"de\", \"marketcap\", \"net_cash\", \"net_cash_change\", \"eps_growth\", \"cfpr\", \"eps_pe\"]]"
   ]
  },
  {
   "cell_type": "code",
   "execution_count": 184,
   "id": "5ed530e6",
   "metadata": {},
   "outputs": [],
   "source": [
    "ranks = features.groupby(\"date\").rank()"
   ]
  },
  {
   "cell_type": "code",
   "execution_count": 186,
   "id": "5ae5c7af",
   "metadata": {},
   "outputs": [],
   "source": [
    "test = ranks[\"pe\"]"
   ]
  },
  {
   "cell_type": "code",
   "execution_count": 193,
   "id": "443e4040",
   "metadata": {},
   "outputs": [
    {
     "data": {
      "text/plain": [
       "date        ticker\n",
       "2000-12-29  AIND        4.0\n",
       "            BSNX        7.0\n",
       "            CMRN       11.0\n",
       "            DS1        12.0\n",
       "            HDLM        2.0\n",
       "                      ...  \n",
       "2021-07-30  WTM        34.0\n",
       "            XOMA      525.0\n",
       "            XRX       403.0\n",
       "            YORW      541.0\n",
       "            ZEUS      447.0\n",
       "Name: pe, Length: 181195, dtype: float64"
      ]
     },
     "execution_count": 193,
     "metadata": {},
     "output_type": "execute_result"
    }
   ],
   "source": [
    "def form_deciles(df):\n",
    "    df = df.droplevel(\"date\")\n",
    "    "
   ]
  },
  {
   "cell_type": "code",
   "execution_count": null,
   "id": "543ed201",
   "metadata": {},
   "outputs": [],
   "source": []
  }
 ],
 "metadata": {
  "kernelspec": {
   "display_name": "Python 3 (ipykernel)",
   "language": "python",
   "name": "python3"
  },
  "language_info": {
   "codemirror_mode": {
    "name": "ipython",
    "version": 3
   },
   "file_extension": ".py",
   "mimetype": "text/x-python",
   "name": "python",
   "nbconvert_exporter": "python",
   "pygments_lexer": "ipython3",
   "version": "3.8.5"
  }
 },
 "nbformat": 4,
 "nbformat_minor": 5
}
