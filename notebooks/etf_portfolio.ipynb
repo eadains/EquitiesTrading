{
 "cells": [
  {
   "cell_type": "code",
   "execution_count": 26,
   "id": "01b56b46",
   "metadata": {},
   "outputs": [],
   "source": [
    "import psycopg2 as pg\n",
    "import pandas as pd\n",
    "import numpy as np\n",
    "import matplotlib.pyplot as plt\n",
    "from scipy.optimize import minimize\n",
    "\n",
    "from config import DATABASE_URI\n",
    "\n",
    "plt.rcParams[\"figure.figsize\"] = (15,10)"
   ]
  },
  {
   "cell_type": "code",
   "execution_count": 2,
   "id": "6106b00a",
   "metadata": {},
   "outputs": [],
   "source": [
    "tickers = [\"BLV\", \"EMB\", \"HYG\", \"VEU\", \"VTI\"]\n",
    "with pg.connect(DATABASE_URI) as conn:\n",
    "    with conn.cursor() as cur:\n",
    "        cur.execute(f\"SELECT date, ticker, closeadj FROM prices WHERE ticker IN {tuple(tickers)}\")\n",
    "        results = cur.fetchall()"
   ]
  },
  {
   "cell_type": "code",
   "execution_count": 3,
   "id": "e8f1f78d",
   "metadata": {},
   "outputs": [],
   "source": [
    "df = pd.DataFrame.from_records(results, columns=[\"date\", \"ticker\", \"closeadj\"], coerce_float=True)\n",
    "# Set index, sort index, then transform into Series via squeeze\n",
    "df = df.set_index([\"date\", \"ticker\"], verify_integrity=True).sort_index().squeeze()"
   ]
  },
  {
   "cell_type": "code",
   "execution_count": 5,
   "id": "579d5c51",
   "metadata": {},
   "outputs": [],
   "source": [
    "returns = df.unstack().pct_change().dropna()"
   ]
  },
  {
   "cell_type": "code",
   "execution_count": 113,
   "id": "42a910b9",
   "metadata": {},
   "outputs": [],
   "source": [
    "mean = np.mean(returns, axis=0)\n",
    "covariance = np.cov(returns.T)"
   ]
  },
  {
   "cell_type": "code",
   "execution_count": 114,
   "id": "5e55a9e1",
   "metadata": {},
   "outputs": [],
   "source": [
    "def minvar(x, covar):\n",
    "    return x.T @ covar @ x"
   ]
  },
  {
   "cell_type": "code",
   "execution_count": 148,
   "id": "cda5d9ec",
   "metadata": {},
   "outputs": [],
   "source": [
    "initial = np.ones(len(returns.columns)) / len(returns.columns)\n",
    "constraints = [{\"type\": \"eq\", \"fun\": lambda x: np.sum(x) - 1}]\n",
    "bounds = [(0, 1) for x in range(len(returns.columns))]\n",
    "\n",
    "results = minimize(minvar, initial, args=(covariance), constraints=constraints, bounds=bounds, tol=1e-15)"
   ]
  },
  {
   "cell_type": "code",
   "execution_count": 149,
   "id": "562a91d4",
   "metadata": {},
   "outputs": [
    {
     "name": "stdout",
     "output_type": "stream",
     "text": [
      "BLV: 44.69%\n",
      "EMB: 21.78%\n",
      "HYG: 30.98%\n",
      "VEU: 0.0%\n",
      "VTI: 2.55%\n"
     ]
    }
   ],
   "source": [
    "for i, x in enumerate(results.x):\n",
    "    print(f\"{returns.columns[i]}: {round(x * 100, 2)}%\")"
   ]
  },
  {
   "cell_type": "code",
   "execution_count": null,
   "id": "a4b63723",
   "metadata": {},
   "outputs": [],
   "source": []
  }
 ],
 "metadata": {
  "kernelspec": {
   "display_name": "Python 3 (ipykernel)",
   "language": "python",
   "name": "python3"
  },
  "language_info": {
   "codemirror_mode": {
    "name": "ipython",
    "version": 3
   },
   "file_extension": ".py",
   "mimetype": "text/x-python",
   "name": "python",
   "nbconvert_exporter": "python",
   "pygments_lexer": "ipython3",
   "version": "3.8.5"
  }
 },
 "nbformat": 4,
 "nbformat_minor": 5
}
